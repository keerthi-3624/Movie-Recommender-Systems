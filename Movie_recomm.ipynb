{
 "cells": [
  {
   "cell_type": "markdown",
   "id": "ac1912db-ff85-448e-bad8-a4e1196dcf58",
   "metadata": {},
   "source": [
    "Movie Recommender Systems"
   ]
  },
  {
   "cell_type": "code",
   "execution_count": null,
   "id": "555721cf-a262-4c35-8ede-2af06d235af0",
   "metadata": {},
   "outputs": [],
   "source": [
    "This project implements a movie recommendation system using two primary approaches: content-based filtering and collaborative filtering."
   ]
  },
  {
   "cell_type": "code",
   "execution_count": 1,
   "id": "4201a2ce-3858-4aaf-8bec-30932e1cdd3e",
   "metadata": {},
   "outputs": [],
   "source": [
    "import pandas as pd\n",
    "import numpy as np\n",
    "from sklearn.feature_extraction.text import TfidfVectorizer\n",
    "from sklearn.metrics.pairwise import cosine_similarity\n",
    "from scipy.sparse.linalg import svds"
   ]
  },
  {
   "cell_type": "markdown",
   "id": "b30336b2-12d6-42ff-bcd6-c6fbd3a37673",
   "metadata": {},
   "source": [
    "pandas: For data manipulation and working with DataFrames.\n",
    "\n",
    "numpy: For numerical operations.\n",
    "\n",
    "TfidfVectorizer: From scikit-learn, used to convert movie overviews into numerical feature vectors.\n",
    "\n",
    "cosine_similarity: From scikit-learn, used to calculate the cosine similarity between movie feature vectors.\n",
    "\n",
    "svds: From scipy.sparse.linalg, used for Singular Value Decomposition (SVD), a matrix factorization technique used in collaborative filtering."
   ]
  },
  {
   "cell_type": "code",
   "execution_count": 2,
   "id": "c8bb4116-15df-465e-b088-45672ff1b489",
   "metadata": {},
   "outputs": [],
   "source": [
    "# Load datasets\n",
    "movies = pd.read_csv(\"movies_metadata.csv\", low_memory=False)\n",
    "ratings = pd.read_csv(\"ratings_small.csv\")"
   ]
  },
  {
   "cell_type": "markdown",
   "id": "f50d4109-98c2-46ff-9fbc-05653a194146",
   "metadata": {},
   "source": [
    "Loads the movie metadata and ratings datasets into pandas DataFrames. The low_memory=False argument is used to avoid data type inference issues when reading the movies_metadata.csv file."
   ]
  },
  {
   "cell_type": "code",
   "execution_count": 3,
   "id": "e7223ba3-68af-4f82-8145-25e68f194076",
   "metadata": {},
   "outputs": [],
   "source": [
    "# Data Preprocessing\n",
    "movies = movies[['id', 'title', 'overview']].dropna()\n",
    "movies['id'] = pd.to_numeric(movies['id'], errors='coerce')\n",
    "movies = movies.dropna().reset_index(drop=True)"
   ]
  },
  {
   "cell_type": "markdown",
   "id": "6d5a3bbe-5518-44a9-9bb4-2c652b05be6b",
   "metadata": {},
   "source": [
    "Selects the id, title, and overview columns from the movies DataFrame and removes rows with any missing values (dropna()).\n",
    "\n",
    "Converts the id column to a numeric type, handling any conversion errors by setting invalid values to NaN (errors='coerce').\n",
    "\n",
    "Removes any rows with NaN values resulting from the id conversion and resets the index of the DataFrame."
   ]
  },
  {
   "cell_type": "code",
   "execution_count": 4,
   "id": "ac4bfe19-918c-498f-843a-f32c5a746ca7",
   "metadata": {},
   "outputs": [],
   "source": [
    "# Content-Based Filtering\n",
    "tfidf = TfidfVectorizer(stop_words=\"english\")\n",
    "movies[\"overview\"] = movies[\"overview\"].fillna(\"\")\n",
    "tfidf_matrix = tfidf.fit_transform(movies[\"overview\"])\n",
    "cosine_sim = cosine_similarity(tfidf_matrix, tfidf_matrix)"
   ]
  },
  {
   "cell_type": "markdown",
   "id": "d92c4750-c21f-4607-b34e-e8af847c9fdb",
   "metadata": {},
   "source": [
    "TfidfVectorizer: Creates a TF-IDF (Term Frequency-Inverse Document Frequency) vectorizer to convert the movie overviews into numerical representations. stop_words='english' removes common English words that don't carry much meaning.\n",
    "\n",
    "Fills any remaining missing values in the overview column with empty strings (\"\").\n",
    "\n",
    "tfidf.fit_transform: Fits the TF-IDF vectorizer to the movie overviews and transforms them into a TF-IDF matrix.\n",
    "\n",
    "cosine_similarity: Calculates the cosine similarity between each pair of movies based on their TF-IDF vectors. This results in a matrix where each element (i, j) represents the cosine similarity between movie i and movie j."
   ]
  },
  {
   "cell_type": "code",
   "execution_count": 5,
   "id": "2c77c827-f237-4a3a-8e75-6740905c34ed",
   "metadata": {},
   "outputs": [],
   "source": [
    "# Function to get recommendations based on content similarity\n",
    "def recommend_content(title, num_recommendations=5):\n",
    "    idx = movies.index[movies[\"title\"] == title].tolist()\n",
    "    if not idx:\n",
    "        return \"Movie not found!\"\n",
    "    idx = idx[0]\n",
    "    \n",
    "    sim_scores = list(enumerate(cosine_sim[idx]))\n",
    "    sim_scores = sorted(sim_scores, key=lambda x: x[1], reverse=True)[1:num_recommendations+1]\n",
    "    \n",
    "    movie_indices = [i[0] for i in sim_scores]\n",
    "    return movies[\"title\"].iloc[movie_indices].tolist()"
   ]
  },
  {
   "cell_type": "markdown",
   "id": "a4e0a0d5-83fa-45b7-b58f-de32c56199ee",
   "metadata": {},
   "source": [
    "Defines a function recommend_content that takes a movie title and the number of recommendations as input.\n",
    "\n",
    "Finds the index of the movie with the given title in the movies DataFrame. If the movie is not found, it returns \"Movie not found!\".\n",
    "\n",
    "Gets the cosine similarity scores for the movie with all other movies using the cosine_sim matrix.\n",
    "\n",
    "Sorts the similarity scores in descending order and selects the top num_recommendations movies.\n",
    "\n",
    "Returns a list of the titles of the recommended movies."
   ]
  },
  {
   "cell_type": "code",
   "execution_count": 6,
   "id": "5eb05200-c2e8-44d1-86a3-4e9efdba9b93",
   "metadata": {},
   "outputs": [],
   "source": [
    "# Collaborative Filtering using Matrix Factorization\n",
    "ratings_matrix = ratings.pivot(index=\"userId\", columns=\"movieId\", values=\"rating\").fillna(0)"
   ]
  },
  {
   "cell_type": "markdown",
   "id": "ebf98ab0-7367-4cf1-9f25-076e2cbbf7e0",
   "metadata": {},
   "source": [
    "Creates a user-item rating matrix from the ratings DataFrame using the pivot function.\n",
    "\n",
    "The rows represent users (userId), the columns represent movies (movieId), and the values represent the ratings.\n",
    "\n",
    "Missing values (i.e., movies not rated by a user) are filled with 0."
   ]
  },
  {
   "cell_type": "code",
   "execution_count": 7,
   "id": "2de7303a-b33d-4db2-824e-a964d35c296a",
   "metadata": {},
   "outputs": [],
   "source": [
    "# Convert the matrix to a NumPy array\n",
    "ratings_array = ratings_matrix.to_numpy()"
   ]
  },
  {
   "cell_type": "markdown",
   "id": "f2445767-db58-4df4-ac53-ca796e01ee1d",
   "metadata": {},
   "source": [
    "Converts the ratings matrix from a pandas DataFrame to a NumPy array, which is required for the SVD calculation."
   ]
  },
  {
   "cell_type": "code",
   "execution_count": 8,
   "id": "e1da458a-3276-4fe7-9b9a-b5858754c106",
   "metadata": {},
   "outputs": [],
   "source": [
    "# Perform Singular Value Decomposition\n",
    "U, sigma, Vt = svds(ratings_array, k=50)\n",
    "sigma = np.diag(sigma)"
   ]
  },
  {
   "cell_type": "markdown",
   "id": "17b130e1-107a-443c-93bd-6ba995f150ea",
   "metadata": {},
   "source": [
    "Performs Singular Value Decomposition (SVD) on the ratings matrix using the svds function from scipy.sparse.linalg.\n",
    "\n",
    "k=50 specifies the number of singular values to keep. This reduces the dimensionality of the matrix and helps to capture the most important patterns in the data.\n",
    "\n",
    "Converts the singular values (sigma) into a diagonal matrix."
   ]
  },
  {
   "cell_type": "code",
   "execution_count": 9,
   "id": "49149377-9771-48ea-aee4-dab854e2a966",
   "metadata": {},
   "outputs": [],
   "source": [
    "# Predict ratings\n",
    "predicted_ratings = np.dot(np.dot(U, sigma), Vt)\n",
    "predicted_ratings_df = pd.DataFrame(predicted_ratings, index=ratings_matrix.index, columns=ratings_matrix.columns)"
   ]
  },
  {
   "cell_type": "markdown",
   "id": "8ebe05fa-8cfd-47c6-aeff-7ec4835ba019",
   "metadata": {},
   "source": [
    "Reconstructs the predicted ratings matrix by multiplying the U, sigma, and Vt matrices.\n",
    "\n",
    "Converts the predicted ratings matrix back into a pandas DataFrame with the original user and movie IDs as indices and column names."
   ]
  },
  {
   "cell_type": "code",
   "execution_count": 10,
   "id": "3d69e78d-1efa-4da9-8d9a-45f39dfd3835",
   "metadata": {},
   "outputs": [],
   "source": [
    "# Function to get movie recommendations for a user\n",
    "def recommend_collaborative(user_id, num_recommendations=5):\n",
    "    if user_id not in predicted_ratings_df.index:\n",
    "        return \"User not found!\"\n",
    "    sorted_movies = predicted_ratings_df.loc[user_id].sort_values(ascending=False)\n",
    "    return sorted_movies.head(num_recommendations).index.tolist()"
   ]
  },
  {
   "cell_type": "markdown",
   "id": "366dc2c7-4e57-48ce-992c-60a01954a161",
   "metadata": {},
   "source": [
    "Defines a function recommend_collaborative that takes a user ID and the number of recommendations as input.\n",
    "\n",
    "Checks if the user ID exists in the predicted ratings DataFrame. If not, it returns \"User not found!\".\n",
    "\n",
    "Sorts the predicted ratings for the user in descending order and selects the top num_recommendations movies.\n",
    "\n",
    "Returns a list of the movie IDs of the recommended movies."
   ]
  },
  {
   "cell_type": "code",
   "execution_count": 11,
   "id": "33c4b3aa-9cb8-43a5-9268-5e49cac33a38",
   "metadata": {},
   "outputs": [
    {
     "name": "stdout",
     "output_type": "stream",
     "text": [
      "['The Godfather: Part II', 'The Godfather Trilogy: 1972-1990', 'The Godfather: Part III', 'Blood Ties', 'Household Saints']\n",
      "[1374, 2968, 2105, 1954, 2193]\n"
     ]
    }
   ],
   "source": [
    "# Example usage:\n",
    "print(recommend_content(\"The Godfather\"))\n",
    "print(recommend_collaborative(1))"
   ]
  },
  {
   "cell_type": "markdown",
   "id": "8396c471-acaf-4302-b890-6232717cfe15",
   "metadata": {},
   "source": [
    "Demonstrates how to use the recommend_content and recommend_collaborative functions.\n",
    "\n",
    "Prints the top 5 content-based recommendations for the movie \"The Godfather\".\n",
    "\n",
    "Prints the top 5 collaborative filtering recommendations for user ID 1."
   ]
  },
  {
   "cell_type": "markdown",
   "id": "eb5ed157-7e0f-484d-9d02-73cadaea99b3",
   "metadata": {},
   "source": [
    "This project implements a movie recommendation system using both content-based and collaborative filtering techniques. Content-based filtering relies on movie overviews to find similar movies, while collaborative filtering uses user ratings to predict movies a user might like. The notebook provides functions to generate recommendations based on these methods and demonstrates their usage with example inputs. The SVD is implemented using matrix factorization."
   ]
  }
 ],
 "metadata": {
  "kernelspec": {
   "display_name": "Python 3 (ipykernel)",
   "language": "python",
   "name": "python3"
  },
  "language_info": {
   "codemirror_mode": {
    "name": "ipython",
    "version": 3
   },
   "file_extension": ".py",
   "mimetype": "text/x-python",
   "name": "python",
   "nbconvert_exporter": "python",
   "pygments_lexer": "ipython3",
   "version": "3.12.1"
  }
 },
 "nbformat": 4,
 "nbformat_minor": 5
}
